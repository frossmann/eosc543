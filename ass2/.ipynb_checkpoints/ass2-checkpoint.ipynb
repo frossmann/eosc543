{
 "cells": [
  {
   "cell_type": "markdown",
   "id": "36d03f92",
   "metadata": {},
   "source": [
    "## EOSC 543: Flexure assignment\n",
    "#### Francis Rossmann [40065154]"
   ]
  },
  {
   "cell_type": "markdown",
   "id": "70270c73",
   "metadata": {},
   "source": [
    "### Question 1\n",
    "_Consider a linear chain of volcanic islands supported by an infinite, elastic oceanic lithosphere.  Bathymetric data indicate that the island chain is flanked symmetrically on both sides by linear depressions and outer rises (forebulges), most likely owing to flexure under the topographic load.  The distance between the bulge crest and axis of the island chain is 200 km._\n",
    "___\n",
    "<img src=\"q1a_1b.png\" alt=\"drawing\" width=\"600\"/>\n",
    "_Sketch 1_\n",
    "___\n",
    "Initial parameters:   \n",
    "$x_b = 200km$    \n",
    "$\\rho_m = 3300 kgm^{-2}$  \n",
    "$\\rho_w = 1035 kgm^{-3}$  \n",
    "$g = 9.81 ms^{-2}$   \n",
    "$v = 0.250$   \n",
    "$E = 0.7\\cdot10^{11} Pa $\n",
    "___\n",
    "#### 1A: \n",
    "Find $\\alpha$ from $x_b$, given the relationship for an infinite plate:  \n",
    "$$ x_b = \\pi\\alpha  \\rightarrow \\alpha = \\frac{x_b}{\\pi}$$\n",
    "\n",
    "Substituting in necessary values, we find $\\alpha = 63.7km$\n",
    "___\n",
    "Now we can find flexural rigidity $D$ given $\\alpha$: \n",
    "$$ \\alpha=\\left[\\frac{4 D}{\\left(\\rho_{m}-\\rho_{w}\\right) g}\\right]^{1 / 4} \\rightarrow D = \\frac{\\alpha^4(\\rho_m - \\rho_s)g}{4} $$ \n",
    "\n",
    "Substituting in necessary values, we find $D = 9.1\\cdot10^{22} Nm$.\n",
    "___\n",
    "And then find effective elastic thickness $h$ given $D$: \n",
    "$$ D=\\frac{E h^{3}}{12\\left(1-v^{2}\\right)} \\rightarrow h = \\left[\\frac{12D\\left(1-v^{2}\\right)}{E}\\right]^{1/3} $$\n",
    "\n",
    "We find $h = 24.4 km$.\n",
    "___\n",
    "#### 1B:\n",
    "Find $\\alpha$ from $x_b$, given the relationship for an infinite plate:  \n",
    "$$ x_b = \\frac{3}{4}\\pi\\alpha  \\rightarrow \\alpha = \\frac{4x_b}{3\\pi}$$ \n",
    "\n",
    "Substituting in necessary values, we find $\\alpha = 84.9km$\n",
    "___\n",
    "Using the same equations as in **1A** for $D$ and $h$, we find:   \n",
    "$ D = 2.8\\cdot10^{23} Nm$    \n",
    "$ h = 35.9 km $  \n",
    "___\n",
    "_Discussion:_ It follows that a broken plate would have to have a higher effective elastic thickness in order to support the same line load as an infinite unbroken plate, so it makes sense that the values for $D$ and $h$ are higher for the broken plate.   \n",
    "\n",
    "In reality, the plate beneath a linear volcanic island chain is probably better approximated by a broken plate, since the mechanical properties of the plate underneath the island likely differ significantly from the surrounding plate. For example, the volcanic island chain must host some sort of 'plumbing' system which must cut through the plate on which it sits - it's therefore unlikely that the mechanical and geologic properties of the plate underneath the island is completely homogenous. \n",
    "___"
   ]
  },
  {
   "cell_type": "markdown",
   "id": "0e8a5890",
   "metadata": {},
   "source": [
    "### Question 2 :\n",
    "___\n",
    "#### 2A: \n",
    "_Recall the linear island chain from problem 1A.  If the distance to the forebulge had been different, we may expect different lithospheric properties._\n",
    "\n",
    "_Use the program to calculate (by trial and error) what the flexural rigidities would be if the distance from the forebulge crest to the axis of the island chain had been 100 km, 400 km, 600 km, 800 km.  Print these 4 flexural profiles on a single plot.  Report these values to two significant figures (e.g., 7.2  1023 Nm, not7  1023 Nm).  Note that the maximum deflection w0 is the same in all cases.  How does the height (amplitude) of the forebulge vary with flexural rigidity?  How does the width (wavelength) of the forebulge vary with flexural rigidity? (10 points for answer, 5 points for graph)_\n",
    "\n",
    "___\n",
    "\n",
    "Note Lineflex06.xls is incomplete and the _quick references tool_ is not built. I've edited the tool so that for a given input $\\alpha$, the tool returns flexural rigidity $D$ since the version downloaded from Canvas comes with a scalar value in the $D$ field instead of some $f(\\alpha)$.\n",
    "\n",
    "First we can use the relationship for an infinite elastic plate to link the flexural parameter $\\alpha$ and the distance to the forebulge axis $x_b$ as: \n",
    "$$ x_b = \\pi\\alpha  \\rightarrow \\alpha = \\frac{x_b}{\\pi}$$\n",
    "\n",
    "for $ x_b = {100, 400, 600, 800km} $ we can solve for $\\alpha$, then use $\\alpha$ to calculate flexural rigidity $D$ as: \n",
    "\n",
    "$$ \\alpha=\\left[\\frac{4 D}{\\left(\\rho_{m}-\\rho_{w}\\right) g}\\right]^{1 / 4} \\rightarrow D = \\frac{\\alpha^4(\\rho_m - \\rho_s)g}{4} $$ \n",
    "\n",
    "Cell A6 in the spreadsheet needs to be replaced with the function $ D(\\alpha)$ instead of the scalar value it comes supplied with. Inputting $\\alpha(x_b) = \\frac{x_b}{\\pi}$ into cell A5, we find:\n",
    "\n",
    "___\n",
    "$ D(\\alpha(100km)) = 5.7\\cdot10^{21}$ Nm    \n",
    "$ D(\\alpha(400km)) = 1.5\\cdot10^{23}$ Nm   \n",
    "$ D(\\alpha(600km)) = 7.4\\cdot10^{24}$ Nm   \n",
    "$ D(\\alpha(800km)) = 2.3\\cdot10^{25}$ Nm   \n",
    "___\n",
    "\n",
    "_Figure 1_ below shows the plot from Lineflex06.xls for the four cases above (forebulge axes located at 100, 400, 600 and 800km respectively, using all the same parameters as in question 1). We can see the forebulge wavelength increases with increasing values of flexural rigidity. Note that the relative maximum deflection height of the forebulge remains essentially unchanged at a value of 0.04 as flexural rigidity increases, since forebulge height ($w_b$ scales with $w_0$ as $w_b = w_0e^{-\\pi} \\approx -0.04w_0$"
   ]
  },
  {
   "cell_type": "markdown",
   "id": "b1718582",
   "metadata": {},
   "source": [
    "<img src=\"four_profiles.png\" alt=\"drawing\" width=\"500\"/>\n",
    "_Figure 1_\n",
    "___"
   ]
  },
  {
   "cell_type": "markdown",
   "id": "297b2379",
   "metadata": {},
   "source": [
    "#### 2B: \n",
    "_Figure 2_ below shows six profiles produces for this question. Series 1-3 are modelled with a fill density of $\\rho_f = 1035 kgm^{-3}$ with maximum normalized depths of -1, -0.5 and 0.2, respectively (corresponding to 10, 5 and 2 km depth). As maximum depth $w_0$ decreases, so does the maximum forebulge height $w_b$. As noted before, $w_b \\approx -0.04w_0$. \n",
    "\n",
    "Series 4-6 are modelled with a fill density of $\\rho_f = 2650 kgm^{-3}$ with the same normalized depths as Series 1-3. Increasing the fill density results in a longer forebulge wavelength in comparison to Series 1-3. Forebulge height is unaffected by the increase in fill density as it scales linearly with $w_0$ independently of $\\rho_f$."
   ]
  },
  {
   "cell_type": "markdown",
   "id": "6359e448",
   "metadata": {},
   "source": [
    "<img src=\"six_profiles.png\" alt=\"drawing\" width=\"600\"/>\n",
    "_Figure 2_ \n",
    "___"
   ]
  },
  {
   "cell_type": "markdown",
   "id": "f74ce7f4",
   "metadata": {},
   "source": [
    "### Question 3: \n",
    "##### Consider a subaerial fold-thrust belt (FTB) and its flanking foreland basin:\n",
    "_The distribution of the FTB load can be approximated by a rectangular load of height 1.5 km, width of 55 km, and density of 2650 kg/m3.  The foredeep depocenter is 150 km wide and filled with sediment of density 2500 kg/m3._\n",
    "___\n",
    "#### 3A.\n",
    "_Calculate the flexural parameter, flexural rigidity, and Te for the lithosphere (Young’s modulus = $0.7\\cdot10^{11}$ Pa; Poisson’s ratio = 0.25).  Also calculate the maximum downward deflection of the foredeep adjacent to the FTB (i.e., at the deformation front (leading edge) of the FTB).  Recall that trigonometric functions should be calculated in radians.  Solve this one by numerical iteration, meaning first plug in a guessed value for alpha (reasonable range: 10-100 km), then adjust up or down until converging on the correct answer.  Give answer to two significant figures (e.g., 11 km, 99 km). (25 points)_\n",
    "___\n",
    "<img src=\"q3.png\" alt=\"drawing\" width=\"700\"/>\n",
    "_Sketch 2:_\n",
    "___\n",
    "_Finding $\\alpha$:_\n",
    "\n",
    "We know that the flexural parameter $\\alpha$ is related to the first node $x_0$ and the length of the load block $L$ as: \n",
    "\n",
    "$$\n",
    "\\alpha = \\frac{x_0 - L}{\\arccos\\left[e^{-\\frac{2L}{\\alpha}}\\cdot\\cos\\left(\\frac{x_0+L}{\\alpha}\\right)\\right]} \\rightarrow (x_0 - L) = {\\alpha}\\cdot{\\arccos\\left[e^{-\\frac{2L}{\\alpha}}\\cdot\\cos\\left(\\frac{x_0+L}{\\alpha}\\right)\\right]}\n",
    "$$\n",
    "\n",
    "An easy way to solve this would just be to make a plot of $(x_0-L)$ for a range of $\\alpha$ values, and find the  intersection of our known $(x_0 - L)$ with the curve. We know $x_0 = 150km$ and $ L = 55km$ therefore $ (x_0 - L) = 95km$. Below I write something to find the closest point on the curve and plot it. \n",
    "\n",
    "See code and figure below, which suggests that the flexural parameter $\\alpha$ has value $\\alpha = 56.1 km$. \n"
   ]
  },
  {
   "cell_type": "code",
   "execution_count": 1,
   "id": "90715367",
   "metadata": {},
   "outputs": [
    {
     "name": "stdout",
     "output_type": "stream",
     "text": [
      "\tObserved width of foreland basin adjacent to FTB is 95.0 km.\n",
      "\tFlexural parameter is [56.1] km.\n"
     ]
    },
    {
     "data": {
      "image/png": "[encoded data removed]",
      "text/plain": [
       "<Figure size 720x288 with 1 Axes>"
      ]
     },
     "metadata": {
      "needs_background": "light"
     },
     "output_type": "display_data"
    }
   ],
   "source": [
    "import numpy as np\n",
    "import matplotlib.pyplot as plt\n",
    "\n",
    "x0 = 150000 # node [m]\n",
    "L = 55000  # block length [m]\n",
    "\n",
    "def shotgun_foreland_widths(x0, L):\n",
    "    # returns an array of (x0-L) for many alphas \n",
    "    # (x0-L):\n",
    "    alpha = np.arange(1, 100000, 10)  # initialize a big range of potential alphas\n",
    "    # and now calculate what basin width adjacent to block would be: \n",
    "    adjacent_width = alpha * np.arccos(\n",
    "    np.exp(-2*L/alpha) * np.cos((x0 + L)/alpha)\n",
    "    )\n",
    "    return alpha, adjacent_width\n",
    "\n",
    "\n",
    "# call the function:\n",
    "alpha, adjacent_width = shotgun_foreland_widths(x0, L)\n",
    "\n",
    "# make a plot: \n",
    "%matplotlib inline\n",
    "fig = plt.figure(figsize=(10, 4))\n",
    "ax = plt.axes()\n",
    "ax.plot(alpha/1000, adjacent_width/1000)\n",
    "ax.hlines(y = (x0 - L)/1000,xmin=np.min(alpha)/1000,xmax=np.max(alpha)/1000, linestyle='dashed', color='k')\n",
    "ax.set_xlabel(r'$\\alpha$ [km]');\n",
    "ax.set_ylabel(r'$(x_0 - L)$ [km]');\n",
    "ax.legend(['model',r'observed $(x_0 - L)$'])\n",
    "plt.grid()\n",
    "\n",
    "# print the soln:\n",
    "theAlpha = alpha[np.isclose(adjacent_width,(x0 - L), rtol=0.0001)]\n",
    "print(f'\\tObserved width of foreland basin adjacent to FTB is {np.round((x0 - L)/1000,1)} km.')\n",
    "print(f'\\tFlexural parameter is {np.round(theAlpha/1000,1)} km.')\n",
    "plt.vlines(x=theAlpha/1000,\n",
    "           ymin = np.min(adjacent_width/1000),\n",
    "           ymax = np.max(adjacent_width/1000),\n",
    "           linestyle='dashed',\n",
    "           color='k');"
   ]
  },
  {
   "cell_type": "markdown",
   "id": "fd814648",
   "metadata": {},
   "source": [
    "___\n",
    "Given $\\alpha$ we can find the flexural rigidity $D$ since: \n",
    "\n",
    "$$ \\alpha=\\left[\\frac{4 D}{\\left(\\rho_{m}-\\rho_{w}\\right) g}\\right]^{1 / 4} \\rightarrow D = \\frac{\\alpha^4(\\rho_m - \\rho_s)g}{4} $$ \n",
    "\n",
    "Given:  \n",
    "$\\rho_m = 3300 kgm^{-2}$  \n",
    "$\\rho_s = 2500 kgm^{-3}$  \n",
    "$g = 9.81 ms^{-2}$  \n",
    "$\\alpha = 56100 m$\n",
    "\n",
    "We arrive at $D = 1.9\\cdot10^{22} Nm$\n",
    "___\n",
    "Now to find the elastic thickness $h$, we know: \n",
    "\n",
    "\n",
    "$$ D=\\frac{E h^{3}}{12\\left(1-v^{2}\\right)} \\rightarrow h = \\left[\\frac{12D\\left(1-v^{2}\\right)}{E}\\right]^{1/3} $$\n",
    "and we know:  \n",
    "  \n",
    "$ v = 0.250$   \n",
    "$ E = 0.7\\cdot10^{11} Pa $\n",
    "  \n",
    "Plugging everything in, we arrive at $h = 14.6km $\n",
    "___\n",
    "Next, _calculate the maximum downward deflection of the foredeep adjacent to the FTB (i.e., at the deformation front (leading edge) of the FTB)._ Taking this to mean 'find $w(x = L)$', we can plug $x = L$ into equation D1 or D2 (either one should work according to the notes since both are defined to include a L in the function domain). From class notes, equations D1 and D2 are provided as:      \n",
    "\n",
    "- D1:   for $0 \\leq x \\leq L$:      \n",
    "$$ \n",
    "w(x) = \\left[\\frac{\\rho_Lh_L}{2(\\rho_m - rho_s)}\\right]\\left[2 - e^{-\\frac{(x+L)}{\\alpha}}\\cos(\\frac{x+L}{\\alpha}) - e^{-\\frac{(L-x)}{\\alpha}}\\cos(\\frac{L-x}{\\alpha})\\right]\n",
    "$$\n",
    "\n",
    "- D2:   for $x \\geq L$: \n",
    "$$\n",
    "w(x) = \\left[\\frac{\\rho_Lh_L}{2(\\rho_m - rho_s)}\\right]\\left[e^{-\\frac{(x-L)}{\\alpha}}\\cos(\\frac{x-L}{\\alpha}) - e^{-\\frac{(L+x)}{\\alpha}}\\cos(\\frac{L+x}{\\alpha})\\right]\n",
    "$$\n",
    "\n",
    "___\n",
    "Coding equations D1 and D2 up with the following parameters in the cell below: \n",
    "   \n",
    "$L = 55km$  \n",
    "$h = 2.5km$  \n",
    "$\\rho_L = 2650 kgm^{-3}$  \n",
    "$\\rho_m = 3300 kgm^{-3}$   \n",
    "$\\rho_s = 2500 kgm^{-3}$   \n",
    "$\\alpha = 56 km$   \n",
    "\n",
    "___\n",
    "We find a maximum deflection of 3.9km downwards at the origin, and 2.9km at the edge of the thrust fold belt. We also confirm equations D1 and D2 provide the same solution at $x = L$ as expected. See plot and code output below cell. Note equations D1 and D2 have been flipped in the plot so that a negative deflection corresponds to points below the datum.\n"
   ]
  },
  {
   "cell_type": "code",
   "execution_count": 2,
   "id": "3b1e19a9",
   "metadata": {
    "scrolled": true
   },
   "outputs": [
    {
     "name": "stdout",
     "output_type": "stream",
     "text": [
      "Deflection at edge of fold-thrust belt is -2.6 km.\n",
      "Maximum deflection at origin of -3.9 km.\n"
     ]
    },
    {
     "data": {
      "image/png": "[encoded data removed]",
      "text/plain": [
       "<Figure size 720x288 with 1 Axes>"
      ]
     },
     "metadata": {
      "needs_background": "light"
     },
     "output_type": "display_data"
    }
   ],
   "source": [
    "\n",
    "L = 55 * 1000\n",
    "h = 1.5 * 1000\n",
    "\n",
    "def D1(length, height, alpha):\n",
    "    rho_mantle = 3300\n",
    "    rho_seds = 2500\n",
    "    rho_block = 2650\n",
    "    x = np.linspace(0, L, 100)\n",
    "    w = ((rho_block * h) / (2*(rho_mantle - rho_seds)))*(2 -\n",
    "        np.exp(-(x+L)/alpha)*np.cos((x+L)/alpha) - \n",
    "        np.exp(-(L-x)/alpha)*np.cos((L-x)/alpha))\n",
    "    return -w, x\n",
    "\n",
    "\n",
    "def D2(length, height, alpha): \n",
    "    rho_mantle = 3300\n",
    "    rho_seds = 2500\n",
    "    rho_block = 2650\n",
    "    x = np.linspace(L, 4*L, 100)\n",
    "    w = ((rho_block * h) / (2*(rho_mantle - rho_seds)))*(\n",
    "        np.exp(-(x-L)/alpha)*np.cos((x-L)/alpha) - \n",
    "        np.exp(-(x+L)/alpha)*np.cos((x+L)/alpha))\n",
    "    return -w, x\n",
    "     \n",
    "deflection_inner, x_inner = D1(L, h, theAlpha)\n",
    "deflection_outer, x_outer = D2(L, h, theAlpha)\n",
    "\n",
    "fig = plt.figure(figsize=(10,4))\n",
    "ax = plt.axes()\n",
    "ax.plot(x_inner/1000, deflection_inner/1000)\n",
    "ax.plot(x_outer/1000, deflection_outer/1000)\n",
    "ax.plot(theAlpha/1000, deflection_outer[0]/1000,color='r',marker='+',markersize=20)\n",
    "ax.hlines(y=0, xmin=0, xmax=np.max(x_outer/1000), linestyle='dashed', color='k')\n",
    "ax.legend(['Under block','Adjacent to block'])\n",
    "ax.set_xlabel('Distance [km]')\n",
    "ax.set_ylabel('Deflection [km]')\n",
    "plt.title('Deflection due to distributed loading')\n",
    "plt.grid()\n",
    "\n",
    "assert(deflection_inner[-1] == deflection_outer[0])\n",
    "print(f'Deflection at edge of fold-thrust belt is {round(deflection_inner[-1]/1000,1)} km.')\n",
    "print(f'Maximum deflection at origin of {round(deflection_inner[0]/1000,1)} km.')"
   ]
  },
  {
   "cell_type": "markdown",
   "id": "c5c814d8",
   "metadata": {},
   "source": [
    "#### 3B.  \n",
    "_The results should be similar to the Royden and Karner (1984) analysis of the Apennines FTB and Po/Adriatic foreland.  They compared their model result for maximum deflection with the actual observed thickness of sediment in the Po/Adriatic foreland and decided that their modeled value was far too low to ascribe to subsidence due to the Apennine topographic load alone.  Do you think their explanation is reasonable?  Why or why not?  Either way, offer alternative explanations for this discrepancy.  Some things that may be worth considering in detail include the overall plate tectonic scenario, composition/age of plates, pre-loading bathymetry, the modeled Te value, etc. (10 points)_\n",
    "___\n",
    "Royden and Karner found a best fit elastic thickness of 15km for the Apennines, consistent with the value of 14.6km found above. However the model in Royden and Karner  also requires a net subsurface vertical force of $1.3\\cdot10^{15} dyncm^{-1}$ to explain the observed basin depth. Without the subsurface forcing, the topographic load is considered about 2x too small to produce the observed deflection. Their explanation seems reasonable, they choose an unrealistically high infill density $\\rho_s$ such that their estimate of loading due to this mass represents an upper bound and thus their model produces an upper bound on deflection. Given the observed depth of sediment infill - this conclusion seems fair. \n",
    "\n",
    "Alternative reasons that may account for this discrepancy could involve the geometry of how they set up their model, specifically modelling the plate as a semi-infinite broken plate with a stress-free end and uniform flexural rigidity. First, it's possible that the flexural rigidity of the plate is heterogenous throughout (perhaps decreasing underneath the TFB load due to mineralogical changes). Alternatively, it seems like imposing a stress-free boundary condition at the base of the subducted plate is unrealistic - the downgoing plate is likely pinned to the opposing plate and under a non-zero stress state. This pinning could generate the additional forcing which their model does not account for. "
   ]
  }
 ],
 "metadata": {
  "kernelspec": {
   "display_name": "Python 3 (ipykernel)",
   "language": "python",
   "name": "python3"
  },
  "language_info": {
   "codemirror_mode": {
    "name": "ipython",
    "version": 3
   },
   "file_extension": ".py",
   "mimetype": "text/x-python",
   "name": "python",
   "nbconvert_exporter": "python",
   "pygments_lexer": "ipython3",
   "version": "3.8.12"
  }
 },
 "nbformat": 4,
 "nbformat_minor": 5
}
